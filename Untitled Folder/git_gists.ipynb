{
 "cells": [
  {
   "cell_type": "code",
   "execution_count": null,
   "metadata": {},
   "outputs": [],
   "source": [
    "#Cria uma lista para salvar os valores de Theta para cada situação\n",
    "angle = []\n",
    "\n",
    "for i in range(0, leng):\n",
    "    \n",
    "    \n",
    "    cosT = v_ori[i,0]*v_goal[i,0] + v_ori[i, 1]*v_goal[i, 1] \n",
    "    theta = np.arccos(cosT) #Calcula o angulo a partir do cosseno\n",
    "    theta = np.degrees(theta) #Transforma o Theta de rad pra graus\n",
    "    angle.append(theta)"
   ]
  }
 ],
 "metadata": {
  "kernelspec": {
   "display_name": "Python 3.6.10 64-bit ('env36': venv)",
   "language": "python",
   "name": "python361064bitenv36venva3a75860c2004c84a84fe450598a71a6"
  },
  "language_info": {
   "codemirror_mode": {
    "name": "ipython",
    "version": 3
   },
   "file_extension": ".py",
   "mimetype": "text/x-python",
   "name": "python",
   "nbconvert_exporter": "python",
   "pygments_lexer": "ipython3",
   "version": "3.6.10"
  }
 },
 "nbformat": 4,
 "nbformat_minor": 4
}
